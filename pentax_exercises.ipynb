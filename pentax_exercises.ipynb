{
  "nbformat": 4,
  "nbformat_minor": 0,
  "metadata": {
    "colab": {
      "name": "pentax_exercises.ipynb",
      "provenance": [],
      "collapsed_sections": [],
      "toc_visible": true,
      "authorship_tag": "ABX9TyNi8MhUP7xlVFcMj/de70k+",
      "include_colab_link": true
    },
    "kernelspec": {
      "name": "python3",
      "display_name": "Python 3"
    }
  },
  "cells": [
    {
      "cell_type": "markdown",
      "metadata": {
        "id": "view-in-github",
        "colab_type": "text"
      },
      "source": [
        "<a href=\"https://colab.research.google.com/github/Ibukun-Badmus/Python-with-Datascience/blob/main/pentax_exercises.ipynb\" target=\"_parent\"><img src=\"https://colab.research.google.com/assets/colab-badge.svg\" alt=\"Open In Colab\"/></a>"
      ]
    },
    {
      "cell_type": "code",
      "metadata": {
        "colab": {
          "base_uri": "https://localhost:8080/"
        },
        "id": "UpDyxvU3Txg7",
        "outputId": "92a91368-bae2-42ab-96e8-a7f12547ddc6"
      },
      "source": [
        "num = int(input(\"Enter a number: \"))\r\n",
        "if (num % 2) == 0:\r\n",
        "   print(\"{0} is Even\".format(num))\r\n",
        "else:\r\n",
        "   print(\"{0} is Odd\".format(num)) "
      ],
      "execution_count": 1,
      "outputs": [
        {
          "output_type": "stream",
          "text": [
            "Enter a number: 10\n",
            "10 is Even\n"
          ],
          "name": "stdout"
        }
      ]
    },
    {
      "cell_type": "code",
      "metadata": {
        "id": "1nKq_yrHuEgb"
      },
      "source": [
        ""
      ],
      "execution_count": null,
      "outputs": []
    },
    {
      "cell_type": "code",
      "metadata": {
        "colab": {
          "base_uri": "https://localhost:8080/"
        },
        "id": "6BhvzrJxXowM",
        "outputId": "91ef174e-0bc2-4d6a-d57b-9ff6690efbcb"
      },
      "source": [
        "l = input(\"Input a letter of the alphabet: \")\r\n",
        "\r\n",
        "if l in ('a', 'e', 'i', 'o', 'u'):\r\n",
        "\tprint(\"%s is a vowel.\" % l)\r\n",
        "elif l == 'y':\r\n",
        "\tprint(\"String contains a vowel.\")\r\n",
        "else:\r\n",
        "\tprint(\"%s String does not contain a vowel.\" % l) "
      ],
      "execution_count": 34,
      "outputs": [
        {
          "output_type": "stream",
          "text": [
            "Input a letter of the alphabet: ben\n",
            "ben String does not contain a vowel.\n"
          ],
          "name": "stdout"
        }
      ]
    },
    {
      "cell_type": "code",
      "metadata": {
        "colab": {
          "base_uri": "https://localhost:8080/"
        },
        "id": "d5y2DA5jWaSQ",
        "outputId": "904f7f07-6aef-4eff-a9ad-137b2916ea96"
      },
      "source": [
        "def vowel_sounds():\r\n",
        "  name = str(input(\"Enter a word to check if it contains a vowel sound or not:\"))\r\n",
        "  for ibk in name:\r\n",
        "    if ibk in ['a', 'e', 'i', 'o', 'u']:\r\n",
        "      return print(\"String contains a vowel\")\r\n",
        "  return print(\"String does not contain a vowel\")\r\n",
        "\r\n",
        "vowel_sounds()  "
      ],
      "execution_count": 33,
      "outputs": [
        {
          "output_type": "stream",
          "text": [
            "Enter a word to check if it contains a vowel sound or not:ffg\n",
            "String does not contain a vowel\n"
          ],
          "name": "stdout"
        }
      ]
    },
    {
      "cell_type": "code",
      "metadata": {
        "colab": {
          "base_uri": "https://localhost:8080/"
        },
        "id": "ATCjedgEogW3",
        "outputId": "05c0cd84-0101-4e90-8641-d4fb99e1df60"
      },
      "source": [
        "ibk_list = [1, 2, 3, 4, 9, 8]\r\n",
        "\r\n",
        "def sort_list(arg: []) -> []:\r\n",
        "  new_list = []\r\n",
        "  odd_list = []\r\n",
        "  arg.sort()\r\n",
        "  for i in arg:\r\n",
        "      if i % 2 == 0:\r\n",
        "        new_list.append(i)\r\n",
        "      if i % 2 != 0:\r\n",
        "          odd_list.append(i)\r\n",
        "  new_list += odd_list\r\n",
        "  return new_list\r\n",
        "\r\n",
        "\r\n",
        "print(sort_list(ibk_list))"
      ],
      "execution_count": 32,
      "outputs": [
        {
          "output_type": "stream",
          "text": [
            "[2, 4, 8, 1, 3, 9]\n"
          ],
          "name": "stdout"
        }
      ]
    }
  ]
}